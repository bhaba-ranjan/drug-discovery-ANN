{
 "cells": [
  {
   "cell_type": "code",
   "execution_count": 23,
   "metadata": {
    "collapsed": true,
    "pycharm": {
     "name": "#%%\n"
    }
   },
   "outputs": [],
   "source": [
    "import tensorflow as tf\n",
    "import pandas as pd\n",
    "import numpy as np\n",
    "import matplotlib.pyplot as plt\n",
    "import imblearn"
   ]
  },
  {
   "cell_type": "code",
   "execution_count": 24,
   "outputs": [
    {
     "name": "stdout",
     "output_type": "stream",
     "text": [
      "2.10.0\n"
     ]
    }
   ],
   "source": [
    "print(tf.__version__)"
   ],
   "metadata": {
    "collapsed": false,
    "pycharm": {
     "name": "#%%\n"
    }
   }
  },
  {
   "cell_type": "code",
   "execution_count": 25,
   "outputs": [],
   "source": [
    "table = pd.read_table('../drug-discovery/1663769555_8559356_train.txt', names=['binding','sequence'])"
   ],
   "metadata": {
    "collapsed": false,
    "pycharm": {
     "name": "#%%\n"
    }
   }
  },
  {
   "cell_type": "code",
   "execution_count": 26,
   "outputs": [],
   "source": [
    "from sklearn.feature_extraction.text import CountVectorizer\n",
    "def return_binary_vectorized_form(data_frame):\n",
    "    count_vectorizer = CountVectorizer(binary=True)\n",
    "    fitted_and_transformed = count_vectorizer.fit_transform(data_frame).toarray()\n",
    "    return count_vectorizer,  fitted_and_transformed\n"
   ],
   "metadata": {
    "collapsed": false,
    "pycharm": {
     "name": "#%%\n"
    }
   }
  },
  {
   "cell_type": "code",
   "execution_count": 27,
   "outputs": [],
   "source": [
    "from sklearn.feature_extraction.text import CountVectorizer\n",
    "def return_binary_vectorized_form_with_vocab(data_frame, vocab):\n",
    "    count_vectorizer = CountVectorizer(binary=True, vocabulary=vocab)\n",
    "    fitted_and_transformed = count_vectorizer.fit_transform(data_frame).toarray()\n",
    "    return count_vectorizer,  fitted_and_transformed"
   ],
   "metadata": {
    "collapsed": false,
    "pycharm": {
     "name": "#%%\n"
    }
   }
  },
  {
   "cell_type": "code",
   "execution_count": 28,
   "outputs": [],
   "source": [
    "from sklearn.feature_selection import SelectKBest, chi2\n",
    "def select_k_best_features(feature_set, target_values, fraction, feature_list):\n",
    "    select_bestselect_best = SelectKBest(score_func=chi2, k = int(len(feature_list)*fraction))\n",
    "    select_bestselect_best.fit(feature_set,target_values)\n",
    "    mask = select_bestselect_best.get_support()\n",
    "    k_best_featurs = feature_list[mask]\n",
    "    return k_best_featurs"
   ],
   "metadata": {
    "collapsed": false,
    "pycharm": {
     "name": "#%%\n"
    }
   }
  },
  {
   "cell_type": "code",
   "execution_count": 29,
   "outputs": [],
   "source": [
    "def scale(data,mean,std_dev):\n",
    "    diff = data - mean\n",
    "    scaled = diff / std_dev\n",
    "    return scaled"
   ],
   "metadata": {
    "collapsed": false,
    "pycharm": {
     "name": "#%%\n"
    }
   }
  },
  {
   "cell_type": "code",
   "execution_count": 30,
   "outputs": [],
   "source": [
    "from sklearn.model_selection import train_test_split\n",
    "active_df = table.loc[table.binding == 1]\n",
    "not_active_df = table.loc[table.binding == 0]\n",
    "active_train, active_test, active_binding_train, active_binding_test = train_test_split(active_df.sequence, active_df.binding, shuffle=True, train_size=.75)\n",
    "not_active_train, not_active_test, not_active_binding_train, not_active_binding_test = train_test_split(not_active_df.sequence, not_active_df.binding, shuffle=True, train_size=.70)"
   ],
   "metadata": {
    "collapsed": false,
    "pycharm": {
     "name": "#%%\n"
    }
   }
  },
  {
   "cell_type": "markdown",
   "source": [],
   "metadata": {
    "collapsed": false,
    "pycharm": {
     "name": "#%% md\n"
    }
   }
  },
  {
   "cell_type": "code",
   "execution_count": 31,
   "outputs": [],
   "source": [
    "active_train_df = pd.DataFrame(active_train)\n",
    "active_test_df = pd.DataFrame(active_test)\n",
    "active_binding_train_df = pd.DataFrame(active_binding_train)\n",
    "active_binding_test_df = pd.DataFrame(active_binding_test)\n",
    "\n",
    "active_train_df['binding'] = active_binding_train_df['binding']\n",
    "active_test_df['binding'] = active_binding_test_df['binding']"
   ],
   "metadata": {
    "collapsed": false,
    "pycharm": {
     "name": "#%%\n"
    }
   }
  },
  {
   "cell_type": "code",
   "execution_count": 32,
   "outputs": [],
   "source": [
    "not_active_train_df = pd.DataFrame(not_active_train)\n",
    "not_active_test_df = pd.DataFrame(not_active_test)\n",
    "not_active_binding_train_df = pd.DataFrame(not_active_binding_train)\n",
    "not_active_binding_test_df = pd.DataFrame(not_active_binding_test)\n",
    "\n",
    "not_active_train_df['binding'] = not_active_binding_train_df['binding']\n",
    "not_active_test_df['binding'] = not_active_binding_test_df['binding']"
   ],
   "metadata": {
    "collapsed": false,
    "pycharm": {
     "name": "#%%\n"
    }
   }
  },
  {
   "cell_type": "code",
   "execution_count": 33,
   "outputs": [
    {
     "name": "stdout",
     "output_type": "stream",
     "text": [
      "0    505\n",
      "1     58\n",
      "Name: binding, dtype: int64\n",
      "0    217\n",
      "1     20\n",
      "Name: binding, dtype: int64\n"
     ]
    }
   ],
   "source": [
    "train_df = pd.concat([active_train_df,not_active_train_df]).reset_index()\n",
    "train_df = train_df.drop('index',axis=1)\n",
    "print(train_df.binding.value_counts())\n",
    "\n",
    "test_df = pd.concat([active_test_df,not_active_test_df]).reset_index()\n",
    "test_df = test_df.drop('index',axis=1)\n",
    "print(test_df.binding.value_counts())"
   ],
   "metadata": {
    "collapsed": false,
    "pycharm": {
     "name": "#%%\n"
    }
   }
  },
  {
   "cell_type": "code",
   "execution_count": 34,
   "outputs": [],
   "source": [
    "from imblearn.over_sampling import RandomOverSampler\n",
    "sampler = RandomOverSampler(sampling_strategy=.5)\n",
    "x_sampled, y_sampled = sampler.fit_resample(np.array(train_df.sequence).reshape(-1,1),train_df.binding)\n",
    "x_test_sampled, y_test_sampled = sampler.fit_resample(np.array(test_df.sequence).reshape(-1,1),test_df.binding)"
   ],
   "metadata": {
    "collapsed": false,
    "pycharm": {
     "name": "#%%\n"
    }
   }
  },
  {
   "cell_type": "code",
   "execution_count": 35,
   "outputs": [
    {
     "name": "stdout",
     "output_type": "stream",
     "text": [
      "0    505\n",
      "1    252\n",
      "Name: binding, dtype: int64\n",
      "0    217\n",
      "1    108\n",
      "Name: binding, dtype: int64\n"
     ]
    }
   ],
   "source": [
    "final_train_set = pd.DataFrame(x_sampled, columns  =[\"sequence\"])\n",
    "final_train_set['binding'] = y_sampled\n",
    "print(final_train_set.binding.value_counts())\n",
    "\n",
    "final_test_set = pd.DataFrame(x_test_sampled, columns  =[\"sequence\"])\n",
    "final_test_set['binding'] = y_test_sampled\n",
    "print(final_test_set.binding.value_counts())"
   ],
   "metadata": {
    "collapsed": false,
    "pycharm": {
     "name": "#%%\n"
    }
   }
  },
  {
   "cell_type": "code",
   "execution_count": 36,
   "outputs": [],
   "source": [
    "vectorizer_global, training_features = return_binary_vectorized_form(final_train_set.sequence)\n",
    "k_best_feature = select_k_best_features(training_features, final_train_set.binding, 1, vectorizer_global.get_feature_names_out())\n",
    "vectorizer_k_best, training_split = return_binary_vectorized_form_with_vocab(final_train_set.sequence,k_best_feature)\n",
    "test_split = vectorizer_k_best.transform(final_test_set.sequence).toarray()"
   ],
   "metadata": {
    "collapsed": false,
    "pycharm": {
     "name": "#%%\n"
    }
   }
  },
  {
   "cell_type": "code",
   "execution_count": 37,
   "outputs": [
    {
     "name": "stdout",
     "output_type": "stream",
     "text": [
      "(757, 79507)\n",
      "(325, 79507)\n"
     ]
    }
   ],
   "source": [
    "print(training_split.shape)\n",
    "print(test_split.shape)"
   ],
   "metadata": {
    "collapsed": false,
    "pycharm": {
     "name": "#%%\n"
    }
   }
  },
  {
   "cell_type": "code",
   "execution_count": 38,
   "outputs": [],
   "source": [
    "train_result = np.array(final_train_set.binding)\n",
    "test_result = np.array(final_test_set.binding)\n",
    "# print(train_result.shape)\n",
    "# print(test_result.shape)\n"
   ],
   "metadata": {
    "collapsed": false,
    "pycharm": {
     "name": "#%%\n"
    }
   }
  },
  {
   "cell_type": "code",
   "execution_count": 39,
   "outputs": [
    {
     "data": {
      "text/plain": "108"
     },
     "execution_count": 39,
     "metadata": {},
     "output_type": "execute_result"
    }
   ],
   "source": [
    "test_result.sum()"
   ],
   "metadata": {
    "collapsed": false,
    "pycharm": {
     "name": "#%%\n"
    }
   }
  },
  {
   "cell_type": "code",
   "execution_count": 40,
   "outputs": [
    {
     "data": {
      "text/plain": "array([[0, 0, 0, ..., 0, 0, 0],\n       [0, 0, 0, ..., 0, 0, 0],\n       [0, 0, 0, ..., 0, 0, 0],\n       ...,\n       [0, 0, 0, ..., 0, 0, 0],\n       [0, 0, 0, ..., 0, 0, 0],\n       [0, 0, 0, ..., 0, 0, 0]])"
     },
     "execution_count": 40,
     "metadata": {},
     "output_type": "execute_result"
    }
   ],
   "source": [
    "training_split"
   ],
   "metadata": {
    "collapsed": false,
    "pycharm": {
     "name": "#%%\n"
    }
   }
  },
  {
   "cell_type": "code",
   "execution_count": 41,
   "outputs": [],
   "source": [
    "# from sklearn.decomposition import PCA\n",
    "# pca = PCA(n_components=.95)\n",
    "# training_split = pca.fit_transform(training_split)\n",
    "# test_split = pca.transform(test_split)"
   ],
   "metadata": {
    "collapsed": false,
    "pycharm": {
     "name": "#%%\n"
    }
   }
  },
  {
   "cell_type": "code",
   "execution_count": 42,
   "outputs": [],
   "source": [
    "class EarlyStopplinMonitor(tf.keras.callbacks.Callback):\n",
    "    def __int__(self):\n",
    "        super(EarlyStopplinMonitor, self).__init__()\n",
    "    def on_epoch_end(self, epoch, logs=None):\n",
    "        current_train_precision = logs.get('precision')\n",
    "        current_train_recall= logs.get('recall')\n",
    "        current_test_precision = logs.get('val_precision')\n",
    "        current_test_recall= logs.get('val_recall')\n",
    "        if current_train_precision==0 or current_train_recall==0 or current_test_precision==0 or current_test_recall==0:\n",
    "            print(\"** Waring: prc recall zero **\")\n",
    "            return\n",
    "        f1_train = (2*current_train_precision*current_train_recall) / (current_train_precision+current_train_recall)\n",
    "        f1_test = (2*current_test_precision*current_test_recall) / (current_test_precision+current_test_recall)\n",
    "        if f1_test > 90 and f1_train > 90 and abs(f1_test-f1_train) <1 :\n",
    "            self.model.stop_training = True\n",
    "            print('stoping on set citeria')\n",
    "            print('f1 training: ' + f1_train)\n",
    "            print('f1 testing: ' + f1_test)"
   ],
   "metadata": {
    "collapsed": false,
    "pycharm": {
     "name": "#%%\n"
    }
   }
  },
  {
   "cell_type": "code",
   "execution_count": 43,
   "outputs": [],
   "source": [
    "model = tf.keras.Sequential([\n",
    "    tf.keras.Input(shape=(training_split.shape[-1],)),\n",
    "    tf.keras.layers.Dense(5,activation='relu',kernel_regularizer=tf.keras.regularizers.L1(.05)),\n",
    "    tf.keras.layers.Dense(1, activation='sigmoid')\n",
    "])"
   ],
   "metadata": {
    "collapsed": false,
    "pycharm": {
     "name": "#%%\n"
    }
   }
  },
  {
   "cell_type": "code",
   "execution_count": 44,
   "outputs": [],
   "source": [
    "METRICS = [\n",
    "      tf.keras.metrics.TruePositives(name='tp'),\n",
    "      tf.keras.metrics.FalsePositives(name='fp'),\n",
    "      tf.keras.metrics.TrueNegatives(name='tn'),\n",
    "      tf.keras.metrics.FalseNegatives(name='fn'),\n",
    "      tf.keras.metrics.BinaryAccuracy(name='accuracy'),\n",
    "      tf.keras.metrics.Precision(name='precision'),\n",
    "      tf.keras.metrics.Recall(name='recall'),\n",
    "      tf.keras.metrics.AUC(name='auc'),\n",
    "      tf.keras.metrics.AUC(name='prc', curve='PR'),\n",
    "      # x\n",
    "     # precision-recall curve\n",
    "\n",
    "]\n",
    "model.compile(loss=tf.keras.losses.BinaryFocalCrossentropy(), metrics=METRICS, optimizer='adam')"
   ],
   "metadata": {
    "collapsed": false,
    "pycharm": {
     "name": "#%%\n"
    }
   }
  },
  {
   "cell_type": "code",
   "execution_count": 45,
   "outputs": [
    {
     "name": "stdout",
     "output_type": "stream",
     "text": [
      "Epoch 1/10\n"
     ]
    },
    {
     "name": "stderr",
     "output_type": "stream",
     "text": [
      "2022-10-07 21:51:37.204009: W tensorflow/core/platform/profile_utils/cpu_utils.cc:128] Failed to get CPU frequency: 0 Hz\n",
      "2022-10-07 21:51:37.606513: I tensorflow/core/grappler/optimizers/custom_graph_optimizer_registry.cc:114] Plugin optimizer for device_type GPU is enabled.\n"
     ]
    },
    {
     "name": "stdout",
     "output_type": "stream",
     "text": [
      "24/24 [==============================] - ETA: 0s - loss: 22.5530 - tp: 78.0000 - fp: 46.0000 - tn: 459.0000 - fn: 174.0000 - accuracy: 0.7094 - precision: 0.6290 - recall: 0.3095 - auc: 0.7570 - prc: 0.5492"
     ]
    },
    {
     "name": "stderr",
     "output_type": "stream",
     "text": [
      "2022-10-07 21:51:38.647307: I tensorflow/core/grappler/optimizers/custom_graph_optimizer_registry.cc:114] Plugin optimizer for device_type GPU is enabled.\n"
     ]
    },
    {
     "name": "stdout",
     "output_type": "stream",
     "text": [
      "24/24 [==============================] - 2s 48ms/step - loss: 22.5530 - tp: 78.0000 - fp: 46.0000 - tn: 459.0000 - fn: 174.0000 - accuracy: 0.7094 - precision: 0.6290 - recall: 0.3095 - auc: 0.7570 - prc: 0.5492 - val_loss: 7.2019 - val_tp: 0.0000e+00 - val_fp: 0.0000e+00 - val_tn: 217.0000 - val_fn: 108.0000 - val_accuracy: 0.6677 - val_precision: 0.0000e+00 - val_recall: 0.0000e+00 - val_auc: 0.5074 - val_prc: 0.4173\n",
      "Epoch 2/10\n",
      "24/24 [==============================] - 1s 23ms/step - loss: 4.5325 - tp: 23.0000 - fp: 0.0000e+00 - tn: 505.0000 - fn: 229.0000 - accuracy: 0.6975 - precision: 1.0000 - recall: 0.0913 - auc: 0.7692 - prc: 0.6971 - val_loss: 3.1543 - val_tp: 0.0000e+00 - val_fp: 0.0000e+00 - val_tn: 217.0000 - val_fn: 108.0000 - val_accuracy: 0.6677 - val_precision: 0.0000e+00 - val_recall: 0.0000e+00 - val_auc: 0.7683 - val_prc: 0.6747\n",
      "Epoch 3/10\n",
      "24/24 [==============================] - 1s 23ms/step - loss: 2.9087 - tp: 3.0000 - fp: 0.0000e+00 - tn: 505.0000 - fn: 249.0000 - accuracy: 0.6711 - precision: 1.0000 - recall: 0.0119 - auc: 0.7264 - prc: 0.6971 - val_loss: 2.7372 - val_tp: 0.0000e+00 - val_fp: 0.0000e+00 - val_tn: 217.0000 - val_fn: 108.0000 - val_accuracy: 0.6677 - val_precision: 0.0000e+00 - val_recall: 0.0000e+00 - val_auc: 0.7970 - val_prc: 0.7341\n",
      "Epoch 4/10\n",
      "24/24 [==============================] - 1s 22ms/step - loss: 2.7011 - tp: 6.0000 - fp: 0.0000e+00 - tn: 505.0000 - fn: 246.0000 - accuracy: 0.6750 - precision: 1.0000 - recall: 0.0238 - auc: 0.7827 - prc: 0.7581 - val_loss: 2.6726 - val_tp: 0.0000e+00 - val_fp: 0.0000e+00 - val_tn: 217.0000 - val_fn: 108.0000 - val_accuracy: 0.6677 - val_precision: 0.0000e+00 - val_recall: 0.0000e+00 - val_auc: 0.7914 - val_prc: 0.7419\n",
      "Epoch 5/10\n",
      "24/24 [==============================] - 1s 21ms/step - loss: 2.6652 - tp: 1.0000 - fp: 0.0000e+00 - tn: 505.0000 - fn: 251.0000 - accuracy: 0.6684 - precision: 1.0000 - recall: 0.0040 - auc: 0.7674 - prc: 0.7451 - val_loss: 2.6839 - val_tp: 0.0000e+00 - val_fp: 0.0000e+00 - val_tn: 217.0000 - val_fn: 108.0000 - val_accuracy: 0.6677 - val_precision: 0.0000e+00 - val_recall: 0.0000e+00 - val_auc: 0.8722 - val_prc: 0.8247\n",
      "Epoch 6/10\n",
      "24/24 [==============================] - 1s 21ms/step - loss: 2.6636 - tp: 1.0000 - fp: 0.0000e+00 - tn: 505.0000 - fn: 251.0000 - accuracy: 0.6684 - precision: 1.0000 - recall: 0.0040 - auc: 0.8254 - prc: 0.8202 - val_loss: 2.6750 - val_tp: 0.0000e+00 - val_fp: 0.0000e+00 - val_tn: 217.0000 - val_fn: 108.0000 - val_accuracy: 0.6677 - val_precision: 0.0000e+00 - val_recall: 0.0000e+00 - val_auc: 0.8022 - val_prc: 0.7620\n",
      "Epoch 7/10\n",
      "24/24 [==============================] - 1s 21ms/step - loss: 2.6587 - tp: 0.0000e+00 - fp: 0.0000e+00 - tn: 505.0000 - fn: 252.0000 - accuracy: 0.6671 - precision: 0.0000e+00 - recall: 0.0000e+00 - auc: 0.8440 - prc: 0.8353 - val_loss: 2.6644 - val_tp: 0.0000e+00 - val_fp: 0.0000e+00 - val_tn: 217.0000 - val_fn: 108.0000 - val_accuracy: 0.6677 - val_precision: 0.0000e+00 - val_recall: 0.0000e+00 - val_auc: 0.8701 - val_prc: 0.8387\n",
      "Epoch 8/10\n",
      "24/24 [==============================] - 0s 21ms/step - loss: 2.6473 - tp: 3.0000 - fp: 0.0000e+00 - tn: 505.0000 - fn: 249.0000 - accuracy: 0.6711 - precision: 1.0000 - recall: 0.0119 - auc: 0.8418 - prc: 0.8458 - val_loss: 2.6325 - val_tp: 0.0000e+00 - val_fp: 0.0000e+00 - val_tn: 217.0000 - val_fn: 108.0000 - val_accuracy: 0.6677 - val_precision: 0.0000e+00 - val_recall: 0.0000e+00 - val_auc: 0.8513 - val_prc: 0.8257\n",
      "Epoch 9/10\n",
      "24/24 [==============================] - 0s 21ms/step - loss: 2.6265 - tp: 2.0000 - fp: 0.0000e+00 - tn: 505.0000 - fn: 250.0000 - accuracy: 0.6697 - precision: 1.0000 - recall: 0.0079 - auc: 0.8766 - prc: 0.8785 - val_loss: 2.6310 - val_tp: 0.0000e+00 - val_fp: 0.0000e+00 - val_tn: 217.0000 - val_fn: 108.0000 - val_accuracy: 0.6677 - val_precision: 0.0000e+00 - val_recall: 0.0000e+00 - val_auc: 0.8652 - val_prc: 0.8453\n",
      "Epoch 10/10\n",
      "24/24 [==============================] - 0s 21ms/step - loss: 2.6143 - tp: 13.0000 - fp: 0.0000e+00 - tn: 505.0000 - fn: 239.0000 - accuracy: 0.6843 - precision: 1.0000 - recall: 0.0516 - auc: 0.8725 - prc: 0.8733 - val_loss: 2.6217 - val_tp: 0.0000e+00 - val_fp: 0.0000e+00 - val_tn: 217.0000 - val_fn: 108.0000 - val_accuracy: 0.6677 - val_precision: 0.0000e+00 - val_recall: 0.0000e+00 - val_auc: 0.8518 - val_prc: 0.8270\n"
     ]
    }
   ],
   "source": [
    "num_epochs = 10\n",
    "history = model.fit(training_split, train_result, epochs=num_epochs, validation_data=(test_split, test_result))\n",
    "# ,callbacks=[tf.keras.callbacks.EarlyStopping()]"
   ],
   "metadata": {
    "collapsed": false,
    "pycharm": {
     "name": "#%%\n"
    }
   }
  },
  {
   "cell_type": "code",
   "execution_count": 648,
   "outputs": [
    {
     "name": "stderr",
     "output_type": "stream",
     "text": [
      "/var/folders/w9/17dx1py559xc12bhjgp9w4_80000gn/T/ipykernel_31244/3869729873.py:12: RuntimeWarning: invalid value encountered in divide\n",
      "  j =( 2 * train_precision * train_recall) / (train_precision+train_recall)\n",
      "/var/folders/w9/17dx1py559xc12bhjgp9w4_80000gn/T/ipykernel_31244/3869729873.py:16: RuntimeWarning: invalid value encountered in divide\n",
      "  k = (2 * test_precission * test_recall )/ (test_precission+test_recall)\n"
     ]
    },
    {
     "data": {
      "text/plain": "[<matplotlib.lines.Line2D at 0x2b8ae82b0>]"
     },
     "execution_count": 648,
     "metadata": {},
     "output_type": "execute_result"
    },
    {
     "data": {
      "text/plain": "<Figure size 640x480 with 2 Axes>",
      "image/png": "[encoded data removed]"
     },
     "metadata": {},
     "output_type": "display_data"
    }
   ],
   "source": [
    "fig, (ax1,ax2) = plt.subplots(2,1)\n",
    "testloss = np.array(history.history['val_loss']).reshape(len(history.history['val_loss']),1)\n",
    "trainloss = np.array(history.history['loss']).reshape(len(history.history['loss']),1)\n",
    "\n",
    "ax1.plot(history.epoch, testloss, '-')\n",
    "ax1.plot(history.epoch, trainloss, '--')\n",
    "# ax1.ylabel('loss')\n",
    "# ax1.xlabel('epoch')\n",
    "\n",
    "train_precision = np.array(history.history['precision']).reshape(len(history.history['loss']),1)\n",
    "train_recall= np.array(history.history['recall']).reshape(len(history.history['loss']),1)\n",
    "j =( 2 * train_precision * train_recall) / (train_precision+train_recall)\n",
    "\n",
    "test_precission = np.array(history.history['val_precision']).reshape(len(history.history['loss']),1)\n",
    "test_recall = np.array(history.history['val_recall']).reshape(len(history.history['loss']),1)\n",
    "k = (2 * test_precission * test_recall )/ (test_precission+test_recall)\n",
    "# plt.plot(history.epoch,j, '-')\n",
    "# plt.plot(k,'--')\n",
    "\n",
    "ax2.scatter(history.epoch, k)\n",
    "ax2.scatter(history.epoch, j)\n",
    "ax2.plot(history.epoch, k,'-')\n",
    "ax2.plot(history.epoch, j,'--')\n",
    "# ax3.plot(j+3)\n",
    "# ax3.plot(trainloss,'tab:blue')"
   ],
   "metadata": {
    "collapsed": false,
    "pycharm": {
     "name": "#%%\n"
    }
   }
  },
  {
   "cell_type": "code",
   "execution_count": 508,
   "outputs": [],
   "source": [
    "table_test = pd.read_table('../drug-discovery/1663769555_8653905_test.txt', names=['sequence'])"
   ],
   "metadata": {
    "collapsed": false,
    "pycharm": {
     "name": "#%%\n"
    }
   }
  },
  {
   "cell_type": "code",
   "execution_count": 508,
   "outputs": [],
   "source": [],
   "metadata": {
    "collapsed": false,
    "pycharm": {
     "name": "#%%\n"
    }
   }
  },
  {
   "cell_type": "code",
   "execution_count": 509,
   "outputs": [],
   "source": [
    "unlabeled_test_sequence = vectorizer_k_best.transform(table_test.sequence).toarray()\n",
    "# unlabeled_test_sequence = pca.transform(unlabeled_test_sequence)"
   ],
   "metadata": {
    "collapsed": false,
    "pycharm": {
     "name": "#%%\n"
    }
   }
  },
  {
   "cell_type": "code",
   "execution_count": 510,
   "outputs": [
    {
     "data": {
      "text/plain": "(350, 80933)"
     },
     "execution_count": 510,
     "metadata": {},
     "output_type": "execute_result"
    }
   ],
   "source": [
    "unlabeled_test_sequence.shape"
   ],
   "metadata": {
    "collapsed": false,
    "pycharm": {
     "name": "#%%\n"
    }
   }
  },
  {
   "cell_type": "code",
   "execution_count": 516,
   "outputs": [
    {
     "name": "stdout",
     "output_type": "stream",
     "text": [
      "11/11 [==============================] - 0s 5ms/step\n"
     ]
    }
   ],
   "source": [
    "y = model.predict(unlabeled_test_sequence)"
   ],
   "metadata": {
    "collapsed": false,
    "pycharm": {
     "name": "#%%\n"
    }
   }
  },
  {
   "cell_type": "code",
   "execution_count": 517,
   "outputs": [
    {
     "data": {
      "text/plain": "array([[0.35775533],\n       [0.34519896],\n       [0.35017788],\n       [0.34407687],\n       [0.34666523],\n       [0.34407687],\n       [0.34486705],\n       [0.35100532],\n       [0.3458154 ],\n       [0.540002  ],\n       [0.35489982],\n       [0.3553029 ],\n       [0.34460977],\n       [0.35777122],\n       [0.34407687],\n       [0.35511515],\n       [0.34407687],\n       [0.38512403],\n       [0.3473187 ],\n       [0.34875947],\n       [0.3488631 ],\n       [0.34650233],\n       [0.34407687],\n       [0.34407687],\n       [0.3770331 ],\n       [0.6750486 ],\n       [0.35340336],\n       [0.3474783 ],\n       [0.34642524],\n       [0.3572235 ],\n       [0.34910658],\n       [0.3551118 ],\n       [0.34407687],\n       [0.34513488],\n       [0.34407687],\n       [0.350372  ],\n       [0.35440132],\n       [0.34879386],\n       [0.3564077 ],\n       [0.35510084],\n       [0.35527146],\n       [0.34428728],\n       [0.35631803],\n       [0.3451753 ],\n       [0.34823427],\n       [0.34473327],\n       [0.34790844],\n       [0.34407687],\n       [0.34941363],\n       [0.34474143],\n       [0.36267632],\n       [0.35400647],\n       [0.35591412],\n       [0.5322694 ],\n       [0.34603807],\n       [0.37786832],\n       [0.34407687],\n       [0.34920108],\n       [0.34938627],\n       [0.34407687],\n       [0.34573755],\n       [0.6716625 ],\n       [0.34928817],\n       [0.3461316 ],\n       [0.35093352],\n       [0.34829816],\n       [0.55322737],\n       [0.34407687],\n       [0.35105845],\n       [0.34865162],\n       [0.34420672],\n       [0.35309246],\n       [0.34407687],\n       [0.35471472],\n       [0.34729335],\n       [0.345615  ],\n       [0.35330915],\n       [0.34407687],\n       [0.34956986],\n       [0.34407687],\n       [0.40165123],\n       [0.35815012],\n       [0.65857977],\n       [0.66200626],\n       [0.34850776],\n       [0.679668  ],\n       [0.3468205 ],\n       [0.3475438 ],\n       [0.3631381 ],\n       [0.3477478 ],\n       [0.34407687],\n       [0.34999236],\n       [0.34407687],\n       [0.34602854],\n       [0.34887874],\n       [0.35642096],\n       [0.35690975],\n       [0.34407687],\n       [0.67055905],\n       [0.69803846],\n       [0.35044825],\n       [0.35439897],\n       [0.34407687],\n       [0.34536585],\n       [0.34407687],\n       [0.3537018 ],\n       [0.34407687],\n       [0.35435796],\n       [0.34699544],\n       [0.34907618],\n       [0.3508613 ],\n       [0.35272044],\n       [0.34407687],\n       [0.34407687],\n       [0.70043117],\n       [0.3447    ],\n       [0.34407687],\n       [0.35089853],\n       [0.4328814 ],\n       [0.34588316],\n       [0.6294275 ],\n       [0.34407687],\n       [0.34996074],\n       [0.34471738],\n       [0.34407687],\n       [0.34917802],\n       [0.34754145],\n       [0.34407687],\n       [0.34407687],\n       [0.34510136],\n       [0.34407687],\n       [0.67703813],\n       [0.34407687],\n       [0.3452185 ],\n       [0.34870383],\n       [0.34407687],\n       [0.34897047],\n       [0.34447634],\n       [0.3497607 ],\n       [0.36680976],\n       [0.34623846],\n       [0.3526589 ],\n       [0.34482816],\n       [0.3470479 ],\n       [0.34407687],\n       [0.34769392],\n       [0.66393954],\n       [0.34407687],\n       [0.6296633 ],\n       [0.35409793],\n       [0.35411713],\n       [0.34407687],\n       [0.34407687],\n       [0.39140597],\n       [0.34706858],\n       [0.3512705 ],\n       [0.34407687],\n       [0.34407687],\n       [0.35269192],\n       [0.34645945],\n       [0.3472835 ],\n       [0.3460562 ],\n       [0.6684846 ],\n       [0.35240692],\n       [0.35542142],\n       [0.35041797],\n       [0.36860833],\n       [0.34407687],\n       [0.4359861 ],\n       [0.34407687],\n       [0.34857383],\n       [0.34407687],\n       [0.34952855],\n       [0.34462133],\n       [0.3460399 ],\n       [0.34407687],\n       [0.3502399 ],\n       [0.35057843],\n       [0.3457105 ],\n       [0.34510165],\n       [0.34407687],\n       [0.34407687],\n       [0.3481474 ],\n       [0.3461854 ],\n       [0.34983715],\n       [0.35618815],\n       [0.349866  ],\n       [0.34904674],\n       [0.34407687],\n       [0.35025188],\n       [0.34407687],\n       [0.34407687],\n       [0.3494236 ],\n       [0.35336947],\n       [0.34407687],\n       [0.35140884],\n       [0.34633216],\n       [0.34915078],\n       [0.3450471 ],\n       [0.3492365 ],\n       [0.3639495 ],\n       [0.34998605],\n       [0.34407687],\n       [0.34488815],\n       [0.34407687],\n       [0.35124692],\n       [0.34407687],\n       [0.34407687],\n       [0.35718054],\n       [0.3481724 ],\n       [0.34459448],\n       [0.34407687],\n       [0.35083675],\n       [0.3648252 ],\n       [0.35724106],\n       [0.35037163],\n       [0.35084093],\n       [0.36134544],\n       [0.34407687],\n       [0.35507643],\n       [0.3628986 ],\n       [0.35671464],\n       [0.67537355],\n       [0.34407687],\n       [0.3576646 ],\n       [0.6961131 ],\n       [0.35472172],\n       [0.34407687],\n       [0.3626433 ],\n       [0.34407687],\n       [0.39662683],\n       [0.35456184],\n       [0.34891707],\n       [0.34407687],\n       [0.34478363],\n       [0.3527858 ],\n       [0.34407687],\n       [0.3514483 ],\n       [0.34407687],\n       [0.34517395],\n       [0.35036206],\n       [0.3688717 ],\n       [0.34769422],\n       [0.35502943],\n       [0.34407687],\n       [0.35804692],\n       [0.34407687],\n       [0.6597571 ],\n       [0.34407687],\n       [0.34553182],\n       [0.3516961 ],\n       [0.35696417],\n       [0.35644174],\n       [0.34407687],\n       [0.59021467],\n       [0.35230204],\n       [0.34915355],\n       [0.3441868 ],\n       [0.3561628 ],\n       [0.34769514],\n       [0.36211994],\n       [0.348132  ],\n       [0.34723824],\n       [0.35001284],\n       [0.34652776],\n       [0.35623217],\n       [0.34591046],\n       [0.34522775],\n       [0.34858066],\n       [0.3540819 ],\n       [0.3463889 ],\n       [0.34735784],\n       [0.34696922],\n       [0.35187533],\n       [0.34407687],\n       [0.34407687],\n       [0.34525657],\n       [0.3542103 ],\n       [0.34407687],\n       [0.34407687],\n       [0.34407687],\n       [0.4807719 ],\n       [0.34407687],\n       [0.34407687],\n       [0.3552935 ],\n       [0.34529868],\n       [0.34422773],\n       [0.34676498],\n       [0.34842688],\n       [0.35565814],\n       [0.34407687],\n       [0.34407687],\n       [0.67343813],\n       [0.34407687],\n       [0.35361925],\n       [0.3482737 ],\n       [0.35452083],\n       [0.3452672 ],\n       [0.51164895],\n       [0.34635767],\n       [0.3517951 ],\n       [0.34860456],\n       [0.35152602],\n       [0.34888205],\n       [0.34474996],\n       [0.34407687],\n       [0.3486616 ],\n       [0.3552958 ],\n       [0.34407687],\n       [0.34407687],\n       [0.34407687],\n       [0.34407687],\n       [0.3567147 ],\n       [0.34407687],\n       [0.35413888],\n       [0.6766765 ],\n       [0.34766516],\n       [0.34407687],\n       [0.34523198],\n       [0.34407687],\n       [0.34975255],\n       [0.34710422],\n       [0.6621362 ],\n       [0.34737188],\n       [0.34407687],\n       [0.34790727],\n       [0.34407687],\n       [0.34815657],\n       [0.3517836 ],\n       [0.34826586],\n       [0.6695712 ],\n       [0.34407687],\n       [0.34490448],\n       [0.34407687],\n       [0.34407687],\n       [0.34550393],\n       [0.54118633],\n       [0.35328704],\n       [0.3590997 ],\n       [0.35563967],\n       [0.34407687],\n       [0.34407687],\n       [0.34434155],\n       [0.35155264],\n       [0.3512143 ],\n       [0.34407687],\n       [0.34407687],\n       [0.35064214],\n       [0.5437915 ],\n       [0.34670886]], dtype=float32)"
     },
     "execution_count": 517,
     "metadata": {},
     "output_type": "execute_result"
    }
   ],
   "source": [
    "y"
   ],
   "metadata": {
    "collapsed": false,
    "pycharm": {
     "name": "#%%\n"
    }
   }
  },
  {
   "cell_type": "code",
   "execution_count": 518,
   "outputs": [],
   "source": [
    "# for i in range(3):\n",
    "z = [1 if i>=.5 else 0 for i in y ]"
   ],
   "metadata": {
    "collapsed": false,
    "pycharm": {
     "name": "#%%\n"
    }
   }
  },
  {
   "cell_type": "code",
   "execution_count": 519,
   "outputs": [
    {
     "data": {
      "text/plain": "350"
     },
     "execution_count": 519,
     "metadata": {},
     "output_type": "execute_result"
    }
   ],
   "source": [
    "len(z)"
   ],
   "metadata": {
    "collapsed": false,
    "pycharm": {
     "name": "#%%\n"
    }
   }
  },
  {
   "cell_type": "code",
   "execution_count": 520,
   "outputs": [],
   "source": [
    "import csv\n",
    "outfile = open('./results.csv','w')\n",
    "out = csv.writer(outfile)\n",
    "out.writerows(map(lambda x: [x], z))\n",
    "outfile.close()"
   ],
   "metadata": {
    "collapsed": false,
    "pycharm": {
     "name": "#%%\n"
    }
   }
  },
  {
   "cell_type": "code",
   "execution_count": null,
   "outputs": [],
   "source": [],
   "metadata": {
    "collapsed": false,
    "pycharm": {
     "name": "#%%\n"
    }
   }
  }
 ],
 "metadata": {
  "kernelspec": {
   "display_name": "Python 3",
   "language": "python",
   "name": "python3"
  },
  "language_info": {
   "codemirror_mode": {
    "name": "ipython",
    "version": 2
   },
   "file_extension": ".py",
   "mimetype": "text/x-python",
   "name": "python",
   "nbconvert_exporter": "python",
   "pygments_lexer": "ipython2",
   "version": "2.7.6"
  }
 },
 "nbformat": 4,
 "nbformat_minor": 0
}